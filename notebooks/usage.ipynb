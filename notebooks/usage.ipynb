{
 "cells": [
  {
   "cell_type": "code",
   "execution_count": null,
   "metadata": {},
   "outputs": [],
   "source": [
    "from lib.solver_scheduler import solver_registry, scheduler_registry\n",
    "from lib.cacher_quantizer import cacher_quantizer_registry\n",
    "import torch\n",
    "from diffusers import AutoencoderKL\n",
    "\n",
    "\n",
    "def load_pipe(solver, scheduler, cacher_quantizer):\n",
    "  PipeClass      = cacher_quantizer_registry[cacher_quantizer]\n",
    "  SolverClass    = solver_registry[solver]\n",
    "  SchedulerClassMixin = scheduler_registry[scheduler]\n",
    "\n",
    "  pipe = PipeClass.from_pretrained()\n",
    "  class SolverSchedulerConstructor(SolverClass, SchedulerClassMixin):\n",
    "    def set_timesteps(self, *args, **kwargs):\n",
    "      SchedulerClassMixin.set_timesteps(self, *args, **kwargs)\n",
    "  pipe.scheduler = SolverSchedulerConstructor.from_config()\n",
    "\n",
    "  pipe = pipe.to('cuda')\n",
    "\n",
    "  pipe.vae = AutoencoderKL.from_pretrained(\n",
    "    'madebyollin/sdxl-vae-fp16-fix',\n",
    "    use_safetensors=True,\n",
    "    torch_dtype=torch.float16,\n",
    "  ).to('cuda')\n",
    "  return pipe"
   ]
  },
  {
   "cell_type": "code",
   "execution_count": null,
   "metadata": {},
   "outputs": [],
   "source": [
    "pipe = load_pipe(\n",
    "  solver           = 'DEIS', \n",
    "  scheduler        = 'AYS',\n",
    "  cacher_quantizer = 'DEEPCACHE'\n",
    "  )\n",
    "\n",
    "\n",
    "pipe(\n",
    "  'A frog in a suit giving a motivational speech at a pond, to an audience of ducks', \n",
    "  guidance_scale=5,\n",
    "  num_inference_steps = 80,\n",
    "  generator = torch.Generator(device='cuda').manual_seed(42),\n",
    "  return_dict=False,\n",
    "  )[0][0]"
   ]
  }
 ],
 "metadata": {
  "kernelspec": {
   "display_name": "Python (philurame_venv)",
   "language": "python",
   "name": "philurame_venv"
  },
  "language_info": {
   "codemirror_mode": {
    "name": "ipython",
    "version": 3
   },
   "file_extension": ".py",
   "mimetype": "text/x-python",
   "name": "python",
   "nbconvert_exporter": "python",
   "pygments_lexer": "ipython3",
   "version": "3.9.6"
  }
 },
 "nbformat": 4,
 "nbformat_minor": 2
}
