{
 "cells": [
  {
   "cell_type": "code",
   "execution_count": 1,
   "metadata": {},
   "outputs": [
    {
     "name": "stderr",
     "output_type": "stream",
     "text": [
      "/home/ekneudachina/.conda/envs/philurame_venv/lib/python3.9/site-packages/torch/storage.py:414: FutureWarning: You are using `torch.load` with `weights_only=False` (the current default value), which uses the default pickle module implicitly. It is possible to construct malicious pickle data which will execute arbitrary code during unpickling (See https://github.com/pytorch/pytorch/blob/main/SECURITY.md#untrusted-models for more details). In a future release, the default value for `weights_only` will be flipped to `True`. This limits the functions that could be executed during unpickling. Arbitrary objects will no longer be allowed to be loaded via this mode unless they are explicitly allowlisted by the user via `torch.serialization.add_safe_globals`. We recommend you start setting `weights_only=True` for any use case where you don't have full control of the loaded file. Please open an issue on GitHub for any issues related to this experimental feature.\n",
      "  return torch.load(io.BytesIO(b))\n"
     ]
    },
    {
     "data": {
      "text/plain": [
       "['A remote control sitting on top of a table.',\n",
       " 'Close up on middle section on a remote control, black with button with labels above or symbols on the buttons, which are light blue with white, or pale yellow with arrow heads, computer mouse l & r, and one orange button with LASER printed above it.',\n",
       " 'A button labeled laser and four arrow buttons are shown.',\n",
       " 'We are looking at a close up view of a remote control.',\n",
       " 'A remote control that has a laser option.']"
      ]
     },
     "execution_count": 1,
     "metadata": {},
     "output_type": "execute_result"
    }
   ],
   "source": [
    "with open('/home/mdnikolaev/philurame/SDXL_METRICS/DATA/datasets.pkl' , 'rb') as f:\n",
    "  import pickle\n",
    "  data = pickle.load(f)\n",
    "\n",
    "data.pop('CIFAR')\n",
    "data.pop('IMAGENET');\n",
    "\n",
    "# too big to concat\n",
    "data['COCO']['anns'][5449] # 6966"
   ]
  },
  {
   "cell_type": "code",
   "execution_count": 2,
   "metadata": {},
   "outputs": [
    {
     "data": {
      "image/png": "[encoded data removed]",
      "text/plain": [
       "<Figure size 640x480 with 1 Axes>"
      ]
     },
     "metadata": {},
     "output_type": "display_data"
    }
   ],
   "source": [
    "from collections import Counter\n",
    "import matplotlib.pyplot as plt\n",
    "values_count = Counter([max([len(j) for j in i]) for i in data['COCO']['anns']])\n",
    "plt.scatter(values_count.keys(), values_count.values())\n",
    "plt.xlabel('max length of caption in a list of captions');"
   ]
  },
  {
   "cell_type": "code",
   "execution_count": null,
   "metadata": {},
   "outputs": [],
   "source": [
    "import random\n",
    "def process_strings(strings, max_length):\n",
    "  # Sort the strings in decreasing order of length\n",
    "  sorted_strings = sorted(strings, key=len, reverse=True)\n",
    "  result = ''\n",
    "  # Copy of the sorted strings to work with\n",
    "  strings_to_check = sorted_strings.copy()\n",
    "  # List to keep track of strings that are too long\n",
    "  popped_strings = []\n",
    "\n",
    "  # Step 1: Find the first suitable string\n",
    "  while strings_to_check:\n",
    "    first_row = strings_to_check[0]\n",
    "    if len(first_row) <= max_length:\n",
    "      result = first_row\n",
    "      break\n",
    "    else:\n",
    "      # Remove strings that are too long\n",
    "      popped_strings.append(strings_to_check.pop(0))\n",
    "  else:\n",
    "    # If all strings are too long, return truncated smallest string\n",
    "    smallest_row = sorted_strings[-1]\n",
    "    truncated_row = smallest_row[:max_length]\n",
    "    return truncated_row\n",
    "\n",
    "  # Step 2: Add random rows while under max_length\n",
    "  random.seed(42)\n",
    "  # Exclude the initial result and any popped strings\n",
    "  unused_strings = [s for s in strings_to_check if s != result]\n",
    "\n",
    "  while unused_strings:\n",
    "    random_row = random.choice(unused_strings)\n",
    "    potential_result = result + '\\n' + random_row\n",
    "    if len(potential_result) <= max_length:\n",
    "      result = potential_result\n",
    "      unused_strings.remove(random_row)\n",
    "    else:\n",
    "      break\n",
    "  return result\n",
    "\n",
    "data['COCO']['anns']  = [process_strings(i, 250) for i in data['COCO']['anns']]\n",
    "data['PARTI']['anns'] = [i[:250] for i in data['PARTI']['anns']]\n"
   ]
  },
  {
   "cell_type": "code",
   "execution_count": 9,
   "metadata": {},
   "outputs": [
    {
     "data": {
      "text/plain": [
       "(243, 302)"
      ]
     },
     "execution_count": 9,
     "metadata": {},
     "output_type": "execute_result"
    }
   ],
   "source": [
    "max([(len(i), n) if len(i)<250 else (0, -1) for n, i in enumerate(data['PARTI']['anns'])])"
   ]
  },
  {
   "cell_type": "code",
   "execution_count": 11,
   "metadata": {},
   "outputs": [],
   "source": [
    "with open('/home/mdnikolaev/philurame/SDXL_METRICS/DATA/datasets_coco_parti.pkl', 'wb') as f:\n",
    "  pickle.dump(data, f)"
   ]
  }
 ],
 "metadata": {
  "kernelspec": {
   "display_name": "philurame_venv",
   "language": "python",
   "name": "python3"
  },
  "language_info": {
   "codemirror_mode": {
    "name": "ipython",
    "version": 3
   },
   "file_extension": ".py",
   "mimetype": "text/x-python",
   "name": "python",
   "nbconvert_exporter": "python",
   "pygments_lexer": "ipython3",
   "version": "3.9.6"
  }
 },
 "nbformat": 4,
 "nbformat_minor": 2
}
