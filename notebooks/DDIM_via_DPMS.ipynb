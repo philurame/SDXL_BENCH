{
 "cells": [
  {
   "cell_type": "code",
   "execution_count": null,
   "metadata": {},
   "outputs": [],
   "source": [
    "from diffusers import DDIMScheduler, DPMSolverMultistepScheduler, StableDiffusionXLPipeline\n",
    "import torch\n",
    "import numpy as np\n",
    "NFE = 27\n",
    "\n",
    "def timesteps_ddim(nfe):\n",
    "  '''\n",
    "  make sure last timestep is zero\n",
    "  '''\n",
    "  step_ratio = 1000 // nfe\n",
    "  timesteps = (np.arange(0, nfe) * step_ratio).round()[::-1].copy().astype(np.int64)\n",
    "  return timesteps\n",
    "\n",
    "device = torch.device(\"cuda\" if torch.cuda.is_available() else \"cpu\")\n",
    "pipe = StableDiffusionXLPipeline.from_pretrained(\"stabilityai/stable-diffusion-xl-base-1.0\", torch_dtype=torch.float16, local_files_only=True, variant=\"fp16\").to(device)\n",
    "\n",
    "#############################################\n",
    "# DPMSOLVER-1\n",
    "#############################################\n",
    "\n",
    "pipe.scheduler = DPMSolverMultistepScheduler.from_config(\n",
    "  pipe.scheduler.config,\n",
    "  solver_order=1, \n",
    "  algorithm_type='dpmsolver++', \n",
    "  final_sigmas_type='zero', \n",
    "  )\n",
    "\n",
    "\n",
    "prompt = 'A frog in a suit giving a motivational speech at a pond, to an audience of ducks'\n",
    "\n",
    "img_dpms = pipe(\n",
    "  prompt, \n",
    "  guidance_scale=5,\n",
    "  timesteps=timesteps_ddim(NFE), \n",
    "  return_dict=False,\n",
    "  generator = torch.Generator(device=device).manual_seed(42),\n",
    "  )[0][0]\n",
    "\n",
    "\n",
    "#############################################\n",
    "# DDIM\n",
    "#############################################\n",
    "\n",
    "pipe.scheduler = DDIMScheduler(\n",
    "  timestep_spacing='leading', \n",
    "  clip_sample=False, # there is no clipping in the original realisation in git\n",
    "  )\n",
    "\n",
    "img_ddim = pipe(\n",
    "  prompt, \n",
    "  guidance_scale=5,\n",
    "  num_inference_steps=NFE, \n",
    "  return_dict=False,\n",
    "  generator = torch.Generator(device=device).manual_seed(42),\n",
    "  )[0][0]\n",
    "\n",
    "#############################################\n",
    "# IMG DIFF\n",
    "#############################################\n",
    "\n",
    "import matplotlib.pyplot as plt\n",
    "fig, ax = plt.subplots(1,2, figsize=(20, 10))\n",
    "ax[0].imshow(img_dpms)\n",
    "ax[1].imshow(img_ddim)\n",
    "ax[0].axis('off')\n",
    "ax[1].axis('off')\n",
    "plt.show();"
   ]
  },
  {
   "cell_type": "code",
   "execution_count": 29,
   "metadata": {},
   "outputs": [
    {
     "data": {
      "text/plain": [
       "True"
      ]
     },
     "execution_count": 29,
     "metadata": {},
     "output_type": "execute_result"
    }
   ],
   "source": [
    "torch.manual_seed(42)\n",
    "model_output = torch.randn(1, 4, 128, 128)\n",
    "sample = torch.randn(1, 4, 128, 128)\n",
    "\n",
    "timesteps = timesteps_ddim(NFE)\n",
    "timestep  = timesteps[0]\n",
    "\n",
    "# DPMS\n",
    "\n",
    "dpms_sched = DPMSolverMultistepScheduler(\n",
    "  solver_order=1, \n",
    "  algorithm_type='dpmsolver++', \n",
    "  final_sigmas_type='zero'\n",
    "  )\n",
    "\n",
    "dpms_sched.set_timesteps(timesteps=timesteps_ddim(NFE))\n",
    "dpms_sched._init_step_index(timestep)\n",
    "res_dpms = dpms_sched.step(model_output, None, sample, return_dict=False)[0]\n",
    "\n",
    "# DDIM\n",
    "\n",
    "ddim_sched = DDIMScheduler(\n",
    "  timestep_spacing='leading', \n",
    "  clip_sample=False\n",
    "  )\n",
    "ddim_sched.set_timesteps(NFE)\n",
    "res_ddim = ddim_sched.step(model_output, timestep, sample, return_dict=True)[0]\n",
    "\n",
    "torch.allclose(res_ddim, res_dpms, atol=1e-6)"
   ]
  }
 ],
 "metadata": {
  "kernelspec": {
   "display_name": "philurame_venv",
   "language": "python",
   "name": "python3"
  },
  "language_info": {
   "codemirror_mode": {
    "name": "ipython",
    "version": 3
   },
   "file_extension": ".py",
   "mimetype": "text/x-python",
   "name": "python",
   "nbconvert_exporter": "python",
   "pygments_lexer": "ipython3",
   "version": "3.9.6"
  }
 },
 "nbformat": 4,
 "nbformat_minor": 2
}
